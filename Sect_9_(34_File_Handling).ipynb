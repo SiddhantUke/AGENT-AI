{
  "nbformat": 4,
  "nbformat_minor": 0,
  "metadata": {
    "colab": {
      "provenance": [],
      "authorship_tag": "ABX9TyPS6VgOB4oFNgjvRCaR3jpH",
      "include_colab_link": true
    },
    "kernelspec": {
      "name": "python3",
      "display_name": "Python 3"
    },
    "language_info": {
      "name": "python"
    }
  },
  "cells": [
    {
      "cell_type": "markdown",
      "metadata": {
        "id": "view-in-github",
        "colab_type": "text"
      },
      "source": [
        "<a href=\"https://colab.research.google.com/github/SiddhantUke/AGENT-AI/blob/main/Sect_9_(34_File_Handling).ipynb\" target=\"_parent\"><img src=\"https://colab.research.google.com/assets/colab-badge.svg\" alt=\"Open In Colab\"/></a>"
      ]
    },
    {
      "cell_type": "markdown",
      "source": [
        "### File Operation- Read And Write Files\n",
        "\n",
        "\n",
        "File handling is a crucial part of any programming language. Python provides built-in functions and methods to read from and write to files, both text and binary. This lesson will cover the basics of file handling, including reading and writing text files and binary files."
      ],
      "metadata": {
        "id": "DLmtSPWOrgo_"
      }
    },
    {
      "cell_type": "code",
      "execution_count": 1,
      "metadata": {
        "colab": {
          "base_uri": "https://localhost:8080/"
        },
        "id": "wTj1c0VErfBX",
        "outputId": "2d1c5342-c813-41e8-fdc7-001f3a53cda3"
      },
      "outputs": [
        {
          "output_type": "stream",
          "name": "stdout",
          "text": [
            "LECTURE 2 >>>>>>>>>>\n",
            "\n",
            "sys >> ANY EXCEPTION THAT ARE GETTING CONTROL THEN SYS LIBRBARY AUTOMATICALLY HAVE THAT INFORMTION\n",
            "\n",
            "___for custom handling model use google python documentation________[READ]\n",
            "\n",
            "logging >> any execution that happend it should be able to log all information execution in some files so that it able to track if there's some error try to lock that into a custom files. \n",
            "\n",
            "os module >>> In Python provides a way of using operating system-dependent functionality like reading or writing to the file system. It allows you to interact with the operating system in a way that is portable across different platforms\n",
            "\n",
            "\n",
            "logging:\n",
            "This refers to a specific object, function, or class within the logger module. It's being imported for use in the current script.\n",
            "\n",
            "logger:\n",
            "This is a Python module (a .py file) located inside the src directory. This file likely contains functions, classes, or variables related to logging.\n",
            "\n",
            "\n",
            "The src directory and custom logger module structure are common in larger projects to keep code organized.\n",
            "\n",
            "\n",
            "\n",
            "LECTURE 3 >>>>>>>>>>>>>\n",
            "AGENDA :- WHT KIND OF DATA SET BASICALLY START WITH \n",
            "EDA IN JUPITER NOTEBOOK AND OBSERVE VERY CLEAR  (PROJECT - STUDENT PERFORMANCE INDICATOR)\n",
            "\n",
            "\n",
            "IF YOU'RE FACING  ANY ISSUE FOR THE FIRST TIME WHILE IMPLEMENTING THE PROJECT OR ACTIVATING THE ENVIRONMENT OR VENV ENVIRONMENT FILE WITH KERNEL \n",
            "\n",
            "THEN FIRST THING YOU MUST INSTALL 1) PYTHON ENVIRONMENT MANAGER 2) JUPYTER AND THEN GO TO ANY CELL AND RUN BUT IT DIDNT RUN SO YOU SEE THE OPTION ON THE SEARCH BAR ie PYTHON ENVIRONMENT AND ACTIVATE YOUR ENVIRONMENT AND START DOING YOUR PROJECT.\n",
            "\n",
            "\n",
            "for activating the ipy.kernel then first open the new terminal then >>>> activate the environment then >>> pip install -U ipykernel >>>> wait for the magic\n",
            "\n",
            "pip install -r requirements.txt >>>  before installing any library in vs code\n",
            "\n",
            " \n",
            "\n",
            "in model training\n",
            "we're take all that independent feature except the maths score >>>> dropping math_score >>> after drop we give that drop column as a y= \n",
            "\n",
            "\n",
            "\n",
            "LECTURE 4 >>>>>>>>>>>>\n",
            "\n",
            "from src.exception import CustomException >>>>>>>basically source file se rhe particular folder then import kr rhe jo hme chiye..\n",
            "\n",
            "\n",
            "The @dataclass decorator in Python is used to automatically generate special methods in classes, such as __init__, __repr__, and __eq__, based on the class attributes >>>>>>> interview question.\n",
            "\n",
            "\n",
            "\n",
            "\n",
            "\n",
            "\n",
            "LECTURE 5 >>>>>>>>>>>>\n",
            "\n",
            "data transformation\n",
            "if there is any kind of data then there is transformation data cleaning and data transformation like category, numerical or any missing values then that is handle here >>>\n",
            "\n",
            "basically in my language is that like.... jo ek jaisa h usko ek jaise me daalo ....\n",
            "\n",
            "why we use column transformer kyuki train krte wqt apn waha bhi use kiya tha... aur yaha bhi hme ...kam ayenga !\n",
            "\n",
            "column transformr is basically use to create the pipeline.>>>>> may be doing one hot encoding,standardscaling,if hmepipeline m jaise banana  hai to kafi h ....so basically we use column transformer library.\n",
            "\n",
            "for missing values ...we are using \n",
            "from sklearn.impute\n",
            "aur bhi technique hai wo apn dekh lenge ,,,,\n",
            "\n",
            "\n",
            "for pipeline we are using pipeline...\n",
            "\n",
            "\n",
            "most important library ie standard scaler and onehot encoding >>>>> \n",
            "\n",
            "from src.exception import ce >>>>>> we have to do data handling here as well...\n",
            "\n",
            "\n",
            "from src.logger import logging >>>>> isko youtube kr lena !\n",
            "\n",
            "\n",
            "class dataingestion --------- is basically use for train and test split in different folder.\n",
            "\n",
            "preprocessor_obj_file_path=os.path >>>>> if i want to create any model and if i want to create any pickle file then we required any one kind of path.\n",
            "\n",
            "if any pikle file then we using preprocessor.pkl file \n",
            "\n",
            "The @dataclass decorator in Python is used to automatically generate special methods in classes, such as __init__, __repr__, and __eq__ .\n",
            "\n",
            "\n",
            "\n",
            "\n",
            "\n",
            "\n",
            "\n",
            "\n",
            "\n"
          ]
        }
      ],
      "source": [
        "## READ THE WHOLE FILE !\n",
        "\n",
        "with open(\"/content/project notes.txt\",'r') as file:\n",
        "  content = file.read()\n",
        "  print(content)"
      ]
    },
    {
      "cell_type": "code",
      "source": [
        "## READ A FILE LINE BY LINE !\n",
        "\n",
        "with open(\"/content/project notes.txt\",'r') as file:\n",
        "\n",
        "  for line in file:\n",
        "\n",
        "\n",
        "    print(line)    ## if we use print(line.strip()) then we actually removed the spaced line !"
      ],
      "metadata": {
        "colab": {
          "base_uri": "https://localhost:8080/"
        },
        "id": "NtK6DdCKrx9z",
        "outputId": "da6d0f00-8a08-415f-df52-e383dc066c62"
      },
      "execution_count": 2,
      "outputs": [
        {
          "output_type": "stream",
          "name": "stdout",
          "text": [
            "LECTURE 2 >>>>>>>>>>\n",
            "\n",
            "\n",
            "\n",
            "sys >> ANY EXCEPTION THAT ARE GETTING CONTROL THEN SYS LIBRBARY AUTOMATICALLY HAVE THAT INFORMTION\n",
            "\n",
            "\n",
            "\n",
            "___for custom handling model use google python documentation________[READ]\n",
            "\n",
            "\n",
            "\n",
            "logging >> any execution that happend it should be able to log all information execution in some files so that it able to track if there's some error try to lock that into a custom files. \n",
            "\n",
            "\n",
            "\n",
            "os module >>> In Python provides a way of using operating system-dependent functionality like reading or writing to the file system. It allows you to interact with the operating system in a way that is portable across different platforms\n",
            "\n",
            "\n",
            "\n",
            "\n",
            "\n",
            "logging:\n",
            "\n",
            "This refers to a specific object, function, or class within the logger module. It's being imported for use in the current script.\n",
            "\n",
            "\n",
            "\n",
            "logger:\n",
            "\n",
            "This is a Python module (a .py file) located inside the src directory. This file likely contains functions, classes, or variables related to logging.\n",
            "\n",
            "\n",
            "\n",
            "\n",
            "\n",
            "The src directory and custom logger module structure are common in larger projects to keep code organized.\n",
            "\n",
            "\n",
            "\n",
            "\n",
            "\n",
            "\n",
            "\n",
            "LECTURE 3 >>>>>>>>>>>>>\n",
            "\n",
            "AGENDA :- WHT KIND OF DATA SET BASICALLY START WITH \n",
            "\n",
            "EDA IN JUPITER NOTEBOOK AND OBSERVE VERY CLEAR  (PROJECT - STUDENT PERFORMANCE INDICATOR)\n",
            "\n",
            "\n",
            "\n",
            "\n",
            "\n",
            "IF YOU'RE FACING  ANY ISSUE FOR THE FIRST TIME WHILE IMPLEMENTING THE PROJECT OR ACTIVATING THE ENVIRONMENT OR VENV ENVIRONMENT FILE WITH KERNEL \n",
            "\n",
            "\n",
            "\n",
            "THEN FIRST THING YOU MUST INSTALL 1) PYTHON ENVIRONMENT MANAGER 2) JUPYTER AND THEN GO TO ANY CELL AND RUN BUT IT DIDNT RUN SO YOU SEE THE OPTION ON THE SEARCH BAR ie PYTHON ENVIRONMENT AND ACTIVATE YOUR ENVIRONMENT AND START DOING YOUR PROJECT.\n",
            "\n",
            "\n",
            "\n",
            "\n",
            "\n",
            "for activating the ipy.kernel then first open the new terminal then >>>> activate the environment then >>> pip install -U ipykernel >>>> wait for the magic\n",
            "\n",
            "\n",
            "\n",
            "pip install -r requirements.txt >>>  before installing any library in vs code\n",
            "\n",
            "\n",
            "\n",
            " \n",
            "\n",
            "\n",
            "\n",
            "in model training\n",
            "\n",
            "we're take all that independent feature except the maths score >>>> dropping math_score >>> after drop we give that drop column as a y= \n",
            "\n",
            "\n",
            "\n",
            "\n",
            "\n",
            "\n",
            "\n",
            "LECTURE 4 >>>>>>>>>>>>\n",
            "\n",
            "\n",
            "\n",
            "from src.exception import CustomException >>>>>>>basically source file se rhe particular folder then import kr rhe jo hme chiye..\n",
            "\n",
            "\n",
            "\n",
            "\n",
            "\n",
            "The @dataclass decorator in Python is used to automatically generate special methods in classes, such as __init__, __repr__, and __eq__, based on the class attributes >>>>>>> interview question.\n",
            "\n",
            "\n",
            "\n",
            "\n",
            "\n",
            "\n",
            "\n",
            "\n",
            "\n",
            "\n",
            "\n",
            "\n",
            "\n",
            "LECTURE 5 >>>>>>>>>>>>\n",
            "\n",
            "\n",
            "\n",
            "data transformation\n",
            "\n",
            "if there is any kind of data then there is transformation data cleaning and data transformation like category, numerical or any missing values then that is handle here >>>\n",
            "\n",
            "\n",
            "\n",
            "basically in my language is that like.... jo ek jaisa h usko ek jaise me daalo ....\n",
            "\n",
            "\n",
            "\n",
            "why we use column transformer kyuki train krte wqt apn waha bhi use kiya tha... aur yaha bhi hme ...kam ayenga !\n",
            "\n",
            "\n",
            "\n",
            "column transformr is basically use to create the pipeline.>>>>> may be doing one hot encoding,standardscaling,if hmepipeline m jaise banana  hai to kafi h ....so basically we use column transformer library.\n",
            "\n",
            "\n",
            "\n",
            "for missing values ...we are using \n",
            "\n",
            "from sklearn.impute\n",
            "\n",
            "aur bhi technique hai wo apn dekh lenge ,,,,\n",
            "\n",
            "\n",
            "\n",
            "\n",
            "\n",
            "for pipeline we are using pipeline...\n",
            "\n",
            "\n",
            "\n",
            "\n",
            "\n",
            "most important library ie standard scaler and onehot encoding >>>>> \n",
            "\n",
            "\n",
            "\n",
            "from src.exception import ce >>>>>> we have to do data handling here as well...\n",
            "\n",
            "\n",
            "\n",
            "\n",
            "\n",
            "from src.logger import logging >>>>> isko youtube kr lena !\n",
            "\n",
            "\n",
            "\n",
            "\n",
            "\n",
            "class dataingestion --------- is basically use for train and test split in different folder.\n",
            "\n",
            "\n",
            "\n",
            "preprocessor_obj_file_path=os.path >>>>> if i want to create any model and if i want to create any pickle file then we required any one kind of path.\n",
            "\n",
            "\n",
            "\n",
            "if any pikle file then we using preprocessor.pkl file \n",
            "\n",
            "\n",
            "\n",
            "The @dataclass decorator in Python is used to automatically generate special methods in classes, such as __init__, __repr__, and __eq__ .\n",
            "\n",
            "\n",
            "\n",
            "\n",
            "\n",
            "\n",
            "\n",
            "\n",
            "\n",
            "\n",
            "\n",
            "\n",
            "\n",
            "\n",
            "\n",
            "\n",
            "\n"
          ]
        }
      ]
    },
    {
      "cell_type": "code",
      "source": [
        "## writing a file (overwriting)\n",
        "\n",
        "with open(\"/content/project notes.txt\", 'w') as file:\n",
        "  file.write('Hello World\\n')\n",
        "  file.write('thos is new file and  that overwritten ! ')"
      ],
      "metadata": {
        "id": "zw9G7TVXr5CW"
      },
      "execution_count": 3,
      "outputs": []
    },
    {
      "cell_type": "code",
      "source": [
        " ## Write a File  Without Overwriting ( ANother Approch for this one)\n",
        "\n",
        "# # APPEND MODE ##\n",
        "\n",
        "with open (\"/content/project notes.txt\", 'a') as file:\n",
        "  file.write(\"rewrite it with append method !\\n\")"
      ],
      "metadata": {
        "id": "5dSLrcWyr7FU"
      },
      "execution_count": 4,
      "outputs": []
    },
    {
      "cell_type": "markdown",
      "source": [
        "\n",
        "\n",
        "---\n",
        "\n",
        "### This is With  respect to text file.\n",
        "\n",
        "\n",
        "---\n",
        "\n"
      ],
      "metadata": {
        "id": "KqqKssqBr8pk"
      }
    },
    {
      "cell_type": "code",
      "source": [
        "## WRITING A  LIST OF LINE TO A FILE !\n",
        "\n",
        "lines = ['First line \\n', 'Second line \\n', 'Third line \\n']\n",
        "with open ('/content/project notes.txt', 'a') as file:\n",
        "  file.writelines(lines)"
      ],
      "metadata": {
        "id": "L5umzQ-Yr8Tf"
      },
      "execution_count": 5,
      "outputs": []
    },
    {
      "cell_type": "code",
      "source": [],
      "metadata": {
        "id": "3-BLxwamr8P3"
      },
      "execution_count": 5,
      "outputs": []
    },
    {
      "cell_type": "markdown",
      "source": [
        "### BINARY FILE"
      ],
      "metadata": {
        "id": "YQKY5B-Sr78v"
      }
    },
    {
      "cell_type": "code",
      "source": [
        "\n",
        "### Binary Files\n",
        "\n",
        "# Writing to a binary file\n",
        "data = b'\\x00\\x01\\x02\\x03\\x04'    ## HEXA CODE\n",
        "\n",
        "with open('exPLE.bin', 'wb') as file:\n",
        "\n",
        "    file.write(data)"
      ],
      "metadata": {
        "id": "qqPIqOVesJFm"
      },
      "execution_count": 6,
      "outputs": []
    },
    {
      "cell_type": "code",
      "source": [
        "\n",
        "# Reading a binary file\n",
        "with open('exPLE.bin', 'rb') as file:\n",
        "    content = file.read()\n",
        "    print(content)"
      ],
      "metadata": {
        "colab": {
          "base_uri": "https://localhost:8080/"
        },
        "id": "78bamY8ksJ3I",
        "outputId": "470d7191-abf0-499b-fbd7-3590228ffeab"
      },
      "execution_count": 7,
      "outputs": [
        {
          "output_type": "stream",
          "name": "stdout",
          "text": [
            "b'\\x00\\x01\\x02\\x03\\x04'\n"
          ]
        }
      ]
    },
    {
      "cell_type": "markdown",
      "source": [
        "\n",
        "\n",
        "---\n",
        "\n",
        "\n",
        "\n",
        "---\n",
        "\n"
      ],
      "metadata": {
        "id": "B2rgN8ORsqWE"
      }
    },
    {
      "cell_type": "code",
      "source": [
        "\n",
        "### Read the content froma  source text fiile and write to a destination text file\n",
        "\n",
        "### Copying a text file\n",
        "\n",
        "with open('/content/project notes.txt', 'r') as source_file:\n",
        "    content = source_file.read()\n",
        "\n",
        "with open('destination.txt', 'w') as destination_file:\n",
        "    destination_file.write(content)"
      ],
      "metadata": {
        "id": "Us6FsmhbsJzr"
      },
      "execution_count": 8,
      "outputs": []
    },
    {
      "cell_type": "code",
      "source": [
        "## Read a text file and count the number of lines, words, and characters.\n",
        "\n",
        "## Counting lines, words, and characters in a text file\n",
        "def count_text_file(file_path):\n",
        "\n",
        "    with open(file_path, 'r') as file:\n",
        "\n",
        "        lines = file.readlines()\n",
        "\n",
        "        line_count = len(lines)\n",
        "\n",
        "        word_count = sum(len(line.split()) for line in lines)\n",
        "\n",
        "        char_count = sum(len(line) for line in lines)\n",
        "\n",
        "    return line_count, word_count, char_count\n",
        "\n",
        "file_path = '/content/project notes.txt'\n",
        "\n",
        "lines, words, characters = count_text_file(file_path)\n",
        "\n",
        "print(f'Lines: {lines}, Words: {words}, Characters: {characters}')"
      ],
      "metadata": {
        "colab": {
          "base_uri": "https://localhost:8080/"
        },
        "id": "tAh7kZ9GsJxM",
        "outputId": "6a5a86d6-0628-403f-8260-6cfb7829b538"
      },
      "execution_count": 13,
      "outputs": [
        {
          "output_type": "stream",
          "name": "stdout",
          "text": [
            "Lines: 5, Words: 22, Characters: 122\n"
          ]
        }
      ]
    },
    {
      "cell_type": "markdown",
      "source": [
        "\n",
        "\n",
        "---\n",
        "\n"
      ],
      "metadata": {
        "id": "ok-D3a_QxJ38"
      }
    },
    {
      "cell_type": "markdown",
      "source": [
        "\n",
        "\n",
        "---\n",
        "\n"
      ],
      "metadata": {
        "id": "vXbOiTBVxLpr"
      }
    },
    {
      "cell_type": "markdown",
      "source": [
        "The w+ mode in Python is used to open a file for both reading and writing. If the file does not exist, it will be created. If the file exists, its content is truncated (i.e., the file is overwritten).\n",
        "\n",
        "---\n",
        "\n"
      ],
      "metadata": {
        "id": "0WRRT-ygxG33"
      }
    },
    {
      "cell_type": "markdown",
      "source": [
        "file.seek(offset, whence)\n",
        "\n",
        "\n",
        "offset: How many bytes to move\n",
        "\n",
        "whence (optional):\n",
        "\n",
        "0 = from beginning of file (default)\n",
        "\n",
        "1 = from current position\n",
        "\n",
        "\n",
        "Moves the file pointer to the start of the file\n",
        "\n",
        "Useful when you want to read the file after writing to it"
      ],
      "metadata": {
        "id": "x8DP8y3gxv-b"
      }
    },
    {
      "cell_type": "code",
      "source": [
        "\n",
        "### Writing and then reading a file\n",
        "\n",
        "with open('/content/project notes.txt','w+') as file:\n",
        "    file.write(\"Hello world\\n\")\n",
        "    file.write(\"This is a new line w+ wala example hai ye !   \\n\")\n",
        "\n",
        "    ## Move the file cursor to the beginning\n",
        "    file.seek(0) # Go back to the beginning\n",
        "\n",
        "    ## Read the content of the file\n",
        "    content=file.read()\n",
        "    print(content)"
      ],
      "metadata": {
        "colab": {
          "base_uri": "https://localhost:8080/"
        },
        "id": "Cotf-qxIsJty",
        "outputId": "48c5ef6d-c863-4978-fb91-cd59bab544c2"
      },
      "execution_count": 15,
      "outputs": [
        {
          "output_type": "stream",
          "name": "stdout",
          "text": [
            "Hello world\n",
            "This is a new line w+ wala example hai ye !   \n",
            "\n"
          ]
        }
      ]
    },
    {
      "cell_type": "code",
      "source": [],
      "metadata": {
        "id": "eUgk9qZExM2Z"
      },
      "execution_count": null,
      "outputs": []
    }
  ]
}